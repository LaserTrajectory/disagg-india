{
 "cells": [
  {
   "cell_type": "code",
   "execution_count": 2,
   "metadata": {},
   "outputs": [],
   "source": [
    "import streamlit as st\n",
    "import pandas as pd\n",
    "import numpy as np\n",
    "import plotly.express as px\n",
    "from plotly.subplots import make_subplots\n",
    "import matplotlib.pyplot as plt\n",
    "import seaborn as sns"
   ]
  },
  {
   "cell_type": "code",
   "execution_count": 3,
   "metadata": {},
   "outputs": [],
   "source": [
    "df_c = pd.read_csv('/Users/aniruddhbhaskaran/Programming/pyecon/Viz_Projects/Disagg_Ind/data/csh_c.csv')\n",
    "df_c.rename(columns={'DATE':'Date', 'CSHCCPINA156NRUG':'csh_c'}, inplace=True)"
   ]
  },
  {
   "cell_type": "code",
   "execution_count": 4,
   "metadata": {},
   "outputs": [
    {
     "name": "stdout",
     "output_type": "stream",
     "text": [
      "          Date     csh_c\n",
      "0   1950-01-01  0.895154\n",
      "1   1951-01-01  0.896179\n",
      "2   1952-01-01  0.900067\n",
      "3   1953-01-01  0.888740\n",
      "4   1954-01-01  0.852967\n",
      "..         ...       ...\n",
      "65  2015-01-01  0.628850\n",
      "66  2016-01-01  0.642233\n",
      "67  2017-01-01  0.638919\n",
      "68  2018-01-01  0.638116\n",
      "69  2019-01-01  0.649477\n",
      "\n",
      "[70 rows x 2 columns]\n"
     ]
    }
   ],
   "source": [
    "print(df_c)"
   ]
  },
  {
   "cell_type": "code",
   "execution_count": 5,
   "metadata": {},
   "outputs": [],
   "source": [
    "df_g = pd.read_csv('/Users/aniruddhbhaskaran/Programming/pyecon/Viz_Projects/Disagg_Ind/data/csh_g.csv')\n",
    "df_g.rename(columns={'DATE':'Date', 'CSHGCPINA156NRUG':'csh_g'}, inplace=True)\n",
    "\n",
    "df_i = pd.read_csv('/Users/aniruddhbhaskaran/Programming/pyecon/Viz_Projects/Disagg_Ind/data/csh_i.csv')\n",
    "df_i.rename(columns={'DATE':'Date', 'CSHICPINA156NRUG':'csh_i'}, inplace=True)\n",
    "\n",
    "df_m = pd.read_csv('/Users/aniruddhbhaskaran/Programming/pyecon/Viz_Projects/Disagg_Ind/data/csh_m.csv')\n",
    "df_m.rename(columns={'DATE':'Date', 'CSHMCPINA156NRUG':'csh_m'}, inplace=True)\n",
    "\n",
    "df_x = pd.read_csv('/Users/aniruddhbhaskaran/Programming/pyecon/Viz_Projects/Disagg_Ind/data/csh_x.csv')\n",
    "df_x.rename(columns={'DATE':'Date', 'CSHXCPINA156NRUG':'csh_x'}, inplace=True)\n",
    "\n",
    "df_r = pd.read_csv('/Users/aniruddhbhaskaran/Programming/pyecon/Viz_Projects/Disagg_Ind/data/csh_r.csv')\n",
    "df_r.rename(columns={'DATE':'Date', 'CSHRCPINA156NRUG':'csh_r'}, inplace=True)"
   ]
  },
  {
   "cell_type": "code",
   "execution_count": 6,
   "metadata": {},
   "outputs": [],
   "source": [
    "sel_com_c = df_c[[\"Date\", \"csh_c\"]]\n",
    "sel_com_g = df_g[[\"csh_g\"]]\n",
    "sel_com_i = df_i[[\"csh_i\"]]\n",
    "sel_com_x = df_x[[\"csh_x\"]]\n",
    "sel_com_m = df_m[[\"csh_m\"]]\n",
    "sel_com_r = df_r[[\"csh_r\"]]\n",
    "\n",
    "master = pd.DataFrame()\n",
    "\n",
    "master = sel_com_c.copy()\n",
    "master[\"csh_g\"] = sel_com_g\n",
    "master[\"csh_i\"] = sel_com_i\n",
    "master[\"csh_x\"] = sel_com_x\n",
    "master[\"csh_m\"] = sel_com_m\n",
    "master[\"csh_r\"] = sel_com_r"
   ]
  },
  {
   "cell_type": "code",
   "execution_count": 7,
   "metadata": {},
   "outputs": [
    {
     "name": "stdout",
     "output_type": "stream",
     "text": [
      "          Date     csh_c     csh_g     csh_i     csh_x     csh_m     csh_r\n",
      "0   1950-01-01  0.895154  0.070531  0.085608  0.036188 -0.039647 -0.047835\n",
      "1   1951-01-01  0.896179  0.071333  0.100588  0.029507 -0.051631 -0.045976\n",
      "2   1952-01-01  0.900067  0.075232  0.078543  0.028360 -0.031870 -0.050332\n",
      "3   1953-01-01  0.888740  0.076801  0.086687  0.027209 -0.029121 -0.050317\n",
      "4   1954-01-01  0.852967  0.085931  0.111642  0.027781 -0.033269 -0.045053\n",
      "..         ...       ...       ...       ...       ...       ...       ...\n",
      "65  2015-01-01  0.628850  0.079875  0.276117  0.055589 -0.083771  0.043340\n",
      "66  2016-01-01  0.642233  0.072780  0.278491  0.052504 -0.072517  0.026509\n",
      "67  2017-01-01  0.638919  0.071591  0.302355  0.054804 -0.084922  0.017253\n",
      "68  2018-01-01  0.638116  0.074013  0.280104  0.053512 -0.086365  0.040620\n",
      "69  2019-01-01  0.649477  0.073319  0.270380  0.051061 -0.077938  0.033701\n",
      "\n",
      "[70 rows x 7 columns]\n"
     ]
    }
   ],
   "source": [
    "print(master)"
   ]
  },
  {
   "cell_type": "code",
   "execution_count": null,
   "metadata": {},
   "outputs": [],
   "source": []
  },
  {
   "cell_type": "code",
   "execution_count": null,
   "metadata": {},
   "outputs": [],
   "source": []
  },
  {
   "cell_type": "code",
   "execution_count": 9,
   "metadata": {},
   "outputs": [
    {
     "data": {
      "text/plain": [
       "<Figure size 720x720 with 0 Axes>"
      ]
     },
     "metadata": {},
     "output_type": "display_data"
    }
   ],
   "source": [
    "f = plt.figure()"
   ]
  },
  {
   "cell_type": "code",
   "execution_count": 10,
   "metadata": {},
   "outputs": [
    {
     "data": {
      "text/plain": [
       "<AxesSubplot:xlabel='Date'>"
      ]
     },
     "execution_count": 10,
     "metadata": {},
     "output_type": "execute_result"
    },
    {
     "data": {
      "image/png": "[encoded data removed]",
      "text/plain": [
       "<Figure size 432x288 with 1 Axes>"
      ]
     },
     "metadata": {
      "needs_background": "light"
     },
     "output_type": "display_data"
    }
   ],
   "source": [
    "# ax = master.plot(x=\"Date\", y=\"csh_g\", kind=\"bar\", stacked=True)\n",
    "# master.plot(x=\"Date\", y=\"csh_i\", kind=\"bar\", ax=ax, color=\"red\", stacked=True)"
   ]
  },
  {
   "cell_type": "code",
   "execution_count": 13,
   "metadata": {},
   "outputs": [
    {
     "data": {
      "image/png": "[encoded data removed]",
      "text/plain": [
       "<Figure size 432x288 with 1 Axes>"
      ]
     },
     "metadata": {
      "needs_background": "light"
     },
     "output_type": "display_data"
    }
   ],
   "source": [
    "axis=master[[\"csh_x\", \"csh_i\", \"csh_g\", \"csh_c\", \"csh_m\", \"csh_r\"]].plot(kind=\"bar\", stacked=True)\n",
    "fig = axis.get_figure()"
   ]
  },
  {
   "cell_type": "code",
   "execution_count": 14,
   "metadata": {},
   "outputs": [
    {
     "data": {
      "image/png": "[encoded data removed]",
      "text/plain": [
       "<Figure size 1440x1440 with 1 Axes>"
      ]
     },
     "execution_count": 14,
     "metadata": {},
     "output_type": "execute_result"
    }
   ],
   "source": [
    "fig.set_figwidth(20)\n",
    "fig.set_figheight(20)\n",
    "fig"
   ]
  },
  {
   "cell_type": "code",
   "execution_count": 19,
   "metadata": {},
   "outputs": [
    {
     "data": {
      "application/vnd.plotly.v1+json": {
       "config": {
        "plotlyServerURL": "https://plot.ly"
       },
       "data": [
        {
         "alignmentgroup": "True",
         "hovertemplate": "variable=csh_x<br>Date=%{x}<br>value=%{y}<extra></extra>",
         "legendgroup": "csh_x",
         "marker": {
          "color": "#636efa"
         },
         "name": "csh_x",
         "offsetgroup": "csh_x",
         "orientation": "v",
         "showlegend": true,
         "textposition": "auto",
         "type": "bar",
         "x": [
          "1950-01-01",
          "1951-01-01",
          "1952-01-01",
          "1953-01-01",
          "1954-01-01",
          "1955-01-01",
          "1956-01-01",
          "1957-01-01",
          "1958-01-01",
          "1959-01-01",
          "1960-01-01",
          "1961-01-01",
          "1962-01-01",
          "1963-01-01",
          "1964-01-01",
          "1965-01-01",
          "1966-01-01",
          "1967-01-01",
          "1968-01-01",
          "1969-01-01",
          "1970-01-01",
          "1971-01-01",
          "1972-01-01",
          "1973-01-01",
          "1974-01-01",
          "1975-01-01",
          "1976-01-01",
          "1977-01-01",
          "1978-01-01",
          "1979-01-01",
          "1980-01-01",
          "1981-01-01",
          "1982-01-01",
          "1983-01-01",
          "1984-01-01",
          "1985-01-01",
          "1986-01-01",
          "1987-01-01",
          "1988-01-01",
          "1989-01-01",
          "1990-01-01",
          "1991-01-01",
          "1992-01-01",
          "1993-01-01",
          "1994-01-01",
          "1995-01-01",
          "1996-01-01",
          "1997-01-01",
          "1998-01-01",
          "1999-01-01",
          "2000-01-01",
          "2001-01-01",
          "2002-01-01",
          "2003-01-01",
          "2004-01-01",
          "2005-01-01",
          "2006-01-01",
          "2007-01-01",
          "2008-01-01",
          "2009-01-01",
          "2010-01-01",
          "2011-01-01",
          "2012-01-01",
          "2013-01-01",
          "2014-01-01",
          "2015-01-01",
          "2016-01-01",
          "2017-01-01",
          "2018-01-01",
          "2019-01-01"
         ],
         "xaxis": "x",
         "y": [
          0.036188337951898575,
          0.029507370665669438,
          0.0283601488918066,
          0.027209235355257988,
          0.027781138196587563,
          0.029248654842376712,
          0.028060071170330048,
          0.028707699850201607,
          0.02332781441509724,
          0.024948302656412125,
          0.021117974072694782,
          0.020312970504164696,
          0.020008046180009842,
          0.021792571991682053,
          0.0215818639844656,
          0.019570721313357357,
          0.017637202516198158,
          0.017693856731057167,
          0.018796820193529132,
          0.0164977665990591,
          0.016292363405227658,
          0.01523030549287796,
          0.01575049571692944,
          0.016226187348365784,
          0.01990308053791523,
          0.0188931543380022,
          0.023523813113570213,
          0.022541219368577003,
          0.022343235090374947,
          0.02674573287367821,
          0.027022439986467358,
          0.02679718099534512,
          0.029161052778363224,
          0.029428932815790176,
          0.0307553019374609,
          0.02693168632686138,
          0.025272734463214874,
          0.027306942269206047,
          0.02691400796175003,
          0.029769845306873318,
          0.029110539704561237,
          0.02684856206178665,
          0.0323643796145916,
          0.032710880041122437,
          0.03659304603934288,
          0.037459582090377815,
          0.03631336614489555,
          0.037779495120048516,
          0.03543955832719803,
          0.03739839419722557,
          0.04115397483110428,
          0.04120692238211632,
          0.04381852969527245,
          0.04356484487652778,
          0.046887531876564026,
          0.053158488124608994,
          0.055814579129219055,
          0.05499189719557762,
          0.058507934212684624,
          0.056655824184417725,
          0.059049233794212334,
          0.07143013179302216,
          0.06436453014612198,
          0.07173775881528854,
          0.06407975405454636,
          0.05558876320719719,
          0.05250391364097595,
          0.054803695529699326,
          0.053512398153543465,
          0.051061458885669715
         ],
         "yaxis": "y"
        },
        {
         "alignmentgroup": "True",
         "hovertemplate": "variable=csh_i<br>Date=%{x}<br>value=%{y}<extra></extra>",
         "legendgroup": "csh_i",
         "marker": {
          "color": "#EF553B"
         },
         "name": "csh_i",
         "offsetgroup": "csh_i",
         "orientation": "v",
         "showlegend": true,
         "textposition": "auto",
         "type": "bar",
         "x": [
          "1950-01-01",
          "1951-01-01",
          "1952-01-01",
          "1953-01-01",
          "1954-01-01",
          "1955-01-01",
          "1956-01-01",
          "1957-01-01",
          "1958-01-01",
          "1959-01-01",
          "1960-01-01",
          "1961-01-01",
          "1962-01-01",
          "1963-01-01",
          "1964-01-01",
          "1965-01-01",
          "1966-01-01",
          "1967-01-01",
          "1968-01-01",
          "1969-01-01",
          "1970-01-01",
          "1971-01-01",
          "1972-01-01",
          "1973-01-01",
          "1974-01-01",
          "1975-01-01",
          "1976-01-01",
          "1977-01-01",
          "1978-01-01",
          "1979-01-01",
          "1980-01-01",
          "1981-01-01",
          "1982-01-01",
          "1983-01-01",
          "1984-01-01",
          "1985-01-01",
          "1986-01-01",
          "1987-01-01",
          "1988-01-01",
          "1989-01-01",
          "1990-01-01",
          "1991-01-01",
          "1992-01-01",
          "1993-01-01",
          "1994-01-01",
          "1995-01-01",
          "1996-01-01",
          "1997-01-01",
          "1998-01-01",
          "1999-01-01",
          "2000-01-01",
          "2001-01-01",
          "2002-01-01",
          "2003-01-01",
          "2004-01-01",
          "2005-01-01",
          "2006-01-01",
          "2007-01-01",
          "2008-01-01",
          "2009-01-01",
          "2010-01-01",
          "2011-01-01",
          "2012-01-01",
          "2013-01-01",
          "2014-01-01",
          "2015-01-01",
          "2016-01-01",
          "2017-01-01",
          "2018-01-01",
          "2019-01-01"
         ],
         "xaxis": "x",
         "y": [
          0.0856076180934906,
          0.10058768093585968,
          0.07854291051626205,
          0.08668743073940277,
          0.11164233088493347,
          0.12340573221445085,
          0.13787439465522766,
          0.1288069635629654,
          0.12263745814561845,
          0.12444115430116652,
          0.15739816427230835,
          0.14418037235736847,
          0.14964325726032254,
          0.15408319234848022,
          0.15981385111808774,
          0.16643357276916504,
          0.1690046191215515,
          0.15447057783603668,
          0.14024662971496582,
          0.14000244438648224,
          0.15078628063201904,
          0.15800300240516665,
          0.1461731493473053,
          0.16575050354003906,
          0.16206614673137665,
          0.1359850913286209,
          0.14993351697921753,
          0.1626645028591156,
          0.18558578193187714,
          0.16652829945087433,
          0.16722604632377625,
          0.1478068381547928,
          0.14637747406959534,
          0.14070060849189758,
          0.13801927864551544,
          0.13792380690574646,
          0.13783547282218933,
          0.1502954363822937,
          0.15815970301628113,
          0.15874402225017548,
          0.17489799857139587,
          0.1452288180589676,
          0.15919998288154602,
          0.1590760052204132,
          0.17844048142433167,
          0.17633475363254547,
          0.16510778665542605,
          0.18607595562934875,
          0.18253861367702484,
          0.2066042572259903,
          0.19525064527988434,
          0.2016296088695526,
          0.2154669314622879,
          0.2339318990707397,
          0.2802467346191406,
          0.3012323975563049,
          0.30032995343208313,
          0.3367939591407776,
          0.3012247979640961,
          0.3228515088558197,
          0.34156858921051025,
          0.3338458240032196,
          0.3121625483036041,
          0.283821165561676,
          0.2878055870532989,
          0.2761174738407135,
          0.2784913182258606,
          0.30235496163368225,
          0.2801036536693573,
          0.27037954330444336
         ],
         "yaxis": "y"
        },
        {
         "alignmentgroup": "True",
         "hovertemplate": "variable=csh_g<br>Date=%{x}<br>value=%{y}<extra></extra>",
         "legendgroup": "csh_g",
         "marker": {
          "color": "#00cc96"
         },
         "name": "csh_g",
         "offsetgroup": "csh_g",
         "orientation": "v",
         "showlegend": true,
         "textposition": "auto",
         "type": "bar",
         "x": [
          "1950-01-01",
          "1951-01-01",
          "1952-01-01",
          "1953-01-01",
          "1954-01-01",
          "1955-01-01",
          "1956-01-01",
          "1957-01-01",
          "1958-01-01",
          "1959-01-01",
          "1960-01-01",
          "1961-01-01",
          "1962-01-01",
          "1963-01-01",
          "1964-01-01",
          "1965-01-01",
          "1966-01-01",
          "1967-01-01",
          "1968-01-01",
          "1969-01-01",
          "1970-01-01",
          "1971-01-01",
          "1972-01-01",
          "1973-01-01",
          "1974-01-01",
          "1975-01-01",
          "1976-01-01",
          "1977-01-01",
          "1978-01-01",
          "1979-01-01",
          "1980-01-01",
          "1981-01-01",
          "1982-01-01",
          "1983-01-01",
          "1984-01-01",
          "1985-01-01",
          "1986-01-01",
          "1987-01-01",
          "1988-01-01",
          "1989-01-01",
          "1990-01-01",
          "1991-01-01",
          "1992-01-01",
          "1993-01-01",
          "1994-01-01",
          "1995-01-01",
          "1996-01-01",
          "1997-01-01",
          "1998-01-01",
          "1999-01-01",
          "2000-01-01",
          "2001-01-01",
          "2002-01-01",
          "2003-01-01",
          "2004-01-01",
          "2005-01-01",
          "2006-01-01",
          "2007-01-01",
          "2008-01-01",
          "2009-01-01",
          "2010-01-01",
          "2011-01-01",
          "2012-01-01",
          "2013-01-01",
          "2014-01-01",
          "2015-01-01",
          "2016-01-01",
          "2017-01-01",
          "2018-01-01",
          "2019-01-01"
         ],
         "xaxis": "x",
         "y": [
          0.07053126394748688,
          0.07133285701274872,
          0.07523174583911896,
          0.07680051028728485,
          0.08593116700649261,
          0.08995813876390457,
          0.08834487199783325,
          0.10078824311494827,
          0.1000375896692276,
          0.10340572148561478,
          0.10268869996070862,
          0.10847609490156174,
          0.12506800889968872,
          0.14645874500274658,
          0.1434069573879242,
          0.1628129780292511,
          0.16780774295330048,
          0.16042876243591309,
          0.16401512920856476,
          0.16570687294006348,
          0.1802968680858612,
          0.1998540461063385,
          0.20621968805789948,
          0.2034965306520462,
          0.20551683008670807,
          0.2165069282054901,
          0.2167349606752396,
          0.2092972546815872,
          0.21261096000671387,
          0.22469833493232727,
          0.21559932827949524,
          0.2052582800388336,
          0.20783564448356628,
          0.19069558382034305,
          0.18701045215129847,
          0.18888166546821594,
          0.1955479234457016,
          0.1976164430379868,
          0.18907900154590607,
          0.1834077835083008,
          0.16498100757598874,
          0.15639616549015045,
          0.15118913352489471,
          0.14774855971336365,
          0.1396705061197281,
          0.13503940403461456,
          0.12480537593364716,
          0.13628479838371274,
          0.14238163828849792,
          0.14923584461212158,
          0.14492161571979525,
          0.14100560545921326,
          0.13256968557834625,
          0.12790435552597046,
          0.1232948899269104,
          0.11982563883066175,
          0.11002639681100844,
          0.10699592530727386,
          0.1109287440776825,
          0.11724615842103958,
          0.10683853179216383,
          0.10594679415225984,
          0.1014370694756508,
          0.09269662946462633,
          0.08652032911777496,
          0.07987537980079651,
          0.07277999818325043,
          0.07159131020307541,
          0.07401340454816817,
          0.07331936806440352
         ],
         "yaxis": "y"
        },
        {
         "alignmentgroup": "True",
         "hovertemplate": "variable=csh_c<br>Date=%{x}<br>value=%{y}<extra></extra>",
         "legendgroup": "csh_c",
         "marker": {
          "color": "#ab63fa"
         },
         "name": "csh_c",
         "offsetgroup": "csh_c",
         "orientation": "v",
         "showlegend": true,
         "textposition": "auto",
         "type": "bar",
         "x": [
          "1950-01-01",
          "1951-01-01",
          "1952-01-01",
          "1953-01-01",
          "1954-01-01",
          "1955-01-01",
          "1956-01-01",
          "1957-01-01",
          "1958-01-01",
          "1959-01-01",
          "1960-01-01",
          "1961-01-01",
          "1962-01-01",
          "1963-01-01",
          "1964-01-01",
          "1965-01-01",
          "1966-01-01",
          "1967-01-01",
          "1968-01-01",
          "1969-01-01",
          "1970-01-01",
          "1971-01-01",
          "1972-01-01",
          "1973-01-01",
          "1974-01-01",
          "1975-01-01",
          "1976-01-01",
          "1977-01-01",
          "1978-01-01",
          "1979-01-01",
          "1980-01-01",
          "1981-01-01",
          "1982-01-01",
          "1983-01-01",
          "1984-01-01",
          "1985-01-01",
          "1986-01-01",
          "1987-01-01",
          "1988-01-01",
          "1989-01-01",
          "1990-01-01",
          "1991-01-01",
          "1992-01-01",
          "1993-01-01",
          "1994-01-01",
          "1995-01-01",
          "1996-01-01",
          "1997-01-01",
          "1998-01-01",
          "1999-01-01",
          "2000-01-01",
          "2001-01-01",
          "2002-01-01",
          "2003-01-01",
          "2004-01-01",
          "2005-01-01",
          "2006-01-01",
          "2007-01-01",
          "2008-01-01",
          "2009-01-01",
          "2010-01-01",
          "2011-01-01",
          "2012-01-01",
          "2013-01-01",
          "2014-01-01",
          "2015-01-01",
          "2016-01-01",
          "2017-01-01",
          "2018-01-01",
          "2019-01-01"
         ],
         "xaxis": "x",
         "y": [
          0.8951540589332581,
          0.8961787223815918,
          0.9000668525695801,
          0.8887404799461365,
          0.8529669642448425,
          0.837356686592102,
          0.8379031419754028,
          0.8356678485870361,
          0.8366703391075134,
          0.8273477554321289,
          0.8064563274383545,
          0.8086893558502197,
          0.7851346135139465,
          0.7588755488395691,
          0.7597737908363342,
          0.7306773066520691,
          0.7226076722145081,
          0.74114990234375,
          0.7472109794616699,
          0.7446007728576659,
          0.7190228104591371,
          0.7142866849899292,
          0.7065080404281616,
          0.6962135434150696,
          0.7117823958396912,
          0.6961953043937683,
          0.6641448140144348,
          0.6728754639625549,
          0.6810005903244019,
          0.672913134098053,
          0.6744331121444702,
          0.6914392113685608,
          0.6974596977233887,
          0.7171252965927124,
          0.7212861776351929,
          0.7219702005386353,
          0.7188744544982909,
          0.7109829783439636,
          0.7065598964691162,
          0.7011317014694214,
          0.7119017243385315,
          0.7087873220443726,
          0.6931436061859131,
          0.6927144527435303,
          0.6939979195594788,
          0.6929808259010315,
          0.7041698098182678,
          0.6924023032188416,
          0.6791892647743225,
          0.6746847629547119,
          0.6655168533325195,
          0.6706392765045166,
          0.6551187038421631,
          0.6389151811599731,
          0.6180593371391296,
          0.5904995799064636,
          0.5707178711891174,
          0.5677355527877808,
          0.5806964039802551,
          0.5881508588790894,
          0.5669001340866089,
          0.5831465125083923,
          0.5824543237686157,
          0.6060397624969482,
          0.6135661602020264,
          0.6288496851921082,
          0.6422334313392639,
          0.6389186382293701,
          0.6381155848503113,
          0.649477481842041
         ],
         "yaxis": "y"
        },
        {
         "alignmentgroup": "True",
         "hovertemplate": "variable=csh_m<br>Date=%{x}<br>value=%{y}<extra></extra>",
         "legendgroup": "csh_m",
         "marker": {
          "color": "#FFA15A"
         },
         "name": "csh_m",
         "offsetgroup": "csh_m",
         "orientation": "v",
         "showlegend": true,
         "textposition": "auto",
         "type": "bar",
         "x": [
          "1950-01-01",
          "1951-01-01",
          "1952-01-01",
          "1953-01-01",
          "1954-01-01",
          "1955-01-01",
          "1956-01-01",
          "1957-01-01",
          "1958-01-01",
          "1959-01-01",
          "1960-01-01",
          "1961-01-01",
          "1962-01-01",
          "1963-01-01",
          "1964-01-01",
          "1965-01-01",
          "1966-01-01",
          "1967-01-01",
          "1968-01-01",
          "1969-01-01",
          "1970-01-01",
          "1971-01-01",
          "1972-01-01",
          "1973-01-01",
          "1974-01-01",
          "1975-01-01",
          "1976-01-01",
          "1977-01-01",
          "1978-01-01",
          "1979-01-01",
          "1980-01-01",
          "1981-01-01",
          "1982-01-01",
          "1983-01-01",
          "1984-01-01",
          "1985-01-01",
          "1986-01-01",
          "1987-01-01",
          "1988-01-01",
          "1989-01-01",
          "1990-01-01",
          "1991-01-01",
          "1992-01-01",
          "1993-01-01",
          "1994-01-01",
          "1995-01-01",
          "1996-01-01",
          "1997-01-01",
          "1998-01-01",
          "1999-01-01",
          "2000-01-01",
          "2001-01-01",
          "2002-01-01",
          "2003-01-01",
          "2004-01-01",
          "2005-01-01",
          "2006-01-01",
          "2007-01-01",
          "2008-01-01",
          "2009-01-01",
          "2010-01-01",
          "2011-01-01",
          "2012-01-01",
          "2013-01-01",
          "2014-01-01",
          "2015-01-01",
          "2016-01-01",
          "2017-01-01",
          "2018-01-01",
          "2019-01-01"
         ],
         "xaxis": "x",
         "y": [
          -0.039646591991186135,
          -0.05163094028830528,
          -0.03187008202075958,
          -0.029120843857526783,
          -0.03326866403222084,
          -0.03698844835162163,
          -0.04871900007128716,
          -0.04891996085643768,
          -0.03865939378738403,
          -0.036921925842761986,
          -0.043066222220659256,
          -0.03706597909331322,
          -0.03607655316591263,
          -0.0314314104616642,
          -0.029855741187930107,
          -0.03249310329556465,
          -0.02973037399351597,
          -0.030501674860715863,
          -0.027293389663100243,
          -0.02016428112983704,
          -0.017309615388512608,
          -0.02005906961858273,
          -0.017185762524604797,
          -0.017088176682591442,
          -0.02041829191148281,
          -0.015988299623131752,
          -0.01864134892821312,
          -0.02358327060937881,
          -0.0229048989713192,
          -0.027103107422590256,
          -0.03554926812648773,
          -0.04163583740592003,
          -0.03217960149049759,
          -0.05048903077840805,
          -0.041059259325265884,
          -0.0451776422560215,
          -0.03673699870705605,
          -0.03393958508968353,
          -0.03410694748163223,
          -0.03455672785639763,
          -0.033449936658144,
          -0.02596669271588325,
          -0.032803069800138474,
          -0.03136245533823967,
          -0.0354994460940361,
          -0.039134036749601364,
          -0.03965478017926216,
          -0.04207362607121468,
          -0.04194548726081848,
          -0.04627858474850655,
          -0.04970719292759895,
          -0.046954572200775146,
          -0.05011575669050217,
          -0.05203606188297272,
          -0.06177259236574172,
          -0.07280168682336807,
          -0.07849901914596558,
          -0.08056269586086273,
          -0.10136381536722183,
          -0.08985739201307298,
          -0.09702476859092712,
          -0.11155632883310318,
          -0.11243505775928496,
          -0.10194487124681473,
          -0.09262624382972716,
          -0.0837709903717041,
          -0.07251743227243422,
          -0.08492153882980348,
          -0.08636514097452164,
          -0.07793845981359482
         ],
         "yaxis": "y"
        },
        {
         "alignmentgroup": "True",
         "hovertemplate": "variable=csh_r<br>Date=%{x}<br>value=%{y}<extra></extra>",
         "legendgroup": "csh_r",
         "marker": {
          "color": "#19d3f3"
         },
         "name": "csh_r",
         "offsetgroup": "csh_r",
         "orientation": "v",
         "showlegend": true,
         "textposition": "auto",
         "type": "bar",
         "x": [
          "1950-01-01",
          "1951-01-01",
          "1952-01-01",
          "1953-01-01",
          "1954-01-01",
          "1955-01-01",
          "1956-01-01",
          "1957-01-01",
          "1958-01-01",
          "1959-01-01",
          "1960-01-01",
          "1961-01-01",
          "1962-01-01",
          "1963-01-01",
          "1964-01-01",
          "1965-01-01",
          "1966-01-01",
          "1967-01-01",
          "1968-01-01",
          "1969-01-01",
          "1970-01-01",
          "1971-01-01",
          "1972-01-01",
          "1973-01-01",
          "1974-01-01",
          "1975-01-01",
          "1976-01-01",
          "1977-01-01",
          "1978-01-01",
          "1979-01-01",
          "1980-01-01",
          "1981-01-01",
          "1982-01-01",
          "1983-01-01",
          "1984-01-01",
          "1985-01-01",
          "1986-01-01",
          "1987-01-01",
          "1988-01-01",
          "1989-01-01",
          "1990-01-01",
          "1991-01-01",
          "1992-01-01",
          "1993-01-01",
          "1994-01-01",
          "1995-01-01",
          "1996-01-01",
          "1997-01-01",
          "1998-01-01",
          "1999-01-01",
          "2000-01-01",
          "2001-01-01",
          "2002-01-01",
          "2003-01-01",
          "2004-01-01",
          "2005-01-01",
          "2006-01-01",
          "2007-01-01",
          "2008-01-01",
          "2009-01-01",
          "2010-01-01",
          "2011-01-01",
          "2012-01-01",
          "2013-01-01",
          "2014-01-01",
          "2015-01-01",
          "2016-01-01",
          "2017-01-01",
          "2018-01-01",
          "2019-01-01"
         ],
         "xaxis": "x",
         "y": [
          -0.047834694385528564,
          -0.04597572609782219,
          -0.050331544131040566,
          -0.05031682550907135,
          -0.04505294933915138,
          -0.04298078641295433,
          -0.043463487178087234,
          -0.04505081474781037,
          -0.04401380941271782,
          -0.04322105646133423,
          -0.04459493979811669,
          -0.04459283128380776,
          -0.043777398765087135,
          -0.04977864027023315,
          -0.054720740765333176,
          -0.04700146242976189,
          -0.047326896339654916,
          -0.04324142262339592,
          -0.042976170778274536,
          -0.046643611043691635,
          -0.049088675528764725,
          -0.0673149824142456,
          -0.0574655793607235,
          -0.06459856778383255,
          -0.078850157558918,
          -0.051592163741588586,
          -0.035695813596248634,
          -0.043795179575681686,
          -0.07863567769527435,
          -0.06378233432769775,
          -0.04873167723417282,
          -0.029665667563676838,
          -0.04865429177880287,
          -0.02746138721704483,
          -0.03601198270916939,
          -0.030529730021953583,
          -0.040793586522340775,
          -0.05226221308112145,
          -0.04660562053322792,
          -0.03849667310714722,
          -0.04744134098291397,
          -0.01129420194774866,
          -0.0030940982978791,
          -0.0008874690975062549,
          -0.013202507048845293,
          -0.002680565696209669,
          0.00925842486321926,
          -0.010468962602317331,
          0.002396423369646073,
          -0.02164473757147789,
          0.002864136360585689,
          -0.0075268950313329705,
          0.003141915425658226,
          0.007719824556261302,
          -0.006715834606438875,
          0.008085597306489944,
          0.041610196232795715,
          0.014045324176549913,
          0.0500059574842453,
          0.004953013267368078,
          0.022668300196528438,
          0.01718704029917717,
          0.05201659351587296,
          0.04764953628182411,
          0.040654391050338745,
          0.04333967342972755,
          0.026508795097470284,
          0.017252914607524872,
          0.04062014818191528,
          0.033700596541166306
         ],
         "yaxis": "y"
        }
       ],
       "layout": {
        "barmode": "relative",
        "legend": {
         "title": {
          "text": "variable"
         },
         "tracegroupgap": 0
        },
        "template": {
         "data": {
          "bar": [
           {
            "error_x": {
             "color": "#2a3f5f"
            },
            "error_y": {
             "color": "#2a3f5f"
            },
            "marker": {
             "line": {
              "color": "#E5ECF6",
              "width": 0.5
             }
            },
            "type": "bar"
           }
          ],
          "barpolar": [
           {
            "marker": {
             "line": {
              "color": "#E5ECF6",
              "width": 0.5
             }
            },
            "type": "barpolar"
           }
          ],
          "carpet": [
           {
            "aaxis": {
             "endlinecolor": "#2a3f5f",
             "gridcolor": "white",
             "linecolor": "white",
             "minorgridcolor": "white",
             "startlinecolor": "#2a3f5f"
            },
            "baxis": {
             "endlinecolor": "#2a3f5f",
             "gridcolor": "white",
             "linecolor": "white",
             "minorgridcolor": "white",
             "startlinecolor": "#2a3f5f"
            },
            "type": "carpet"
           }
          ],
          "choropleth": [
           {
            "colorbar": {
             "outlinewidth": 0,
             "ticks": ""
            },
            "type": "choropleth"
           }
          ],
          "contour": [
           {
            "colorbar": {
             "outlinewidth": 0,
             "ticks": ""
            },
            "colorscale": [
             [
              0,
              "#0d0887"
             ],
             [
              0.1111111111111111,
              "#46039f"
             ],
             [
              0.2222222222222222,
              "#7201a8"
             ],
             [
              0.3333333333333333,
              "#9c179e"
             ],
             [
              0.4444444444444444,
              "#bd3786"
             ],
             [
              0.5555555555555556,
              "#d8576b"
             ],
             [
              0.6666666666666666,
              "#ed7953"
             ],
             [
              0.7777777777777778,
              "#fb9f3a"
             ],
             [
              0.8888888888888888,
              "#fdca26"
             ],
             [
              1,
              "#f0f921"
             ]
            ],
            "type": "contour"
           }
          ],
          "contourcarpet": [
           {
            "colorbar": {
             "outlinewidth": 0,
             "ticks": ""
            },
            "type": "contourcarpet"
           }
          ],
          "heatmap": [
           {
            "colorbar": {
             "outlinewidth": 0,
             "ticks": ""
            },
            "colorscale": [
             [
              0,
              "#0d0887"
             ],
             [
              0.1111111111111111,
              "#46039f"
             ],
             [
              0.2222222222222222,
              "#7201a8"
             ],
             [
              0.3333333333333333,
              "#9c179e"
             ],
             [
              0.4444444444444444,
              "#bd3786"
             ],
             [
              0.5555555555555556,
              "#d8576b"
             ],
             [
              0.6666666666666666,
              "#ed7953"
             ],
             [
              0.7777777777777778,
              "#fb9f3a"
             ],
             [
              0.8888888888888888,
              "#fdca26"
             ],
             [
              1,
              "#f0f921"
             ]
            ],
            "type": "heatmap"
           }
          ],
          "heatmapgl": [
           {
            "colorbar": {
             "outlinewidth": 0,
             "ticks": ""
            },
            "colorscale": [
             [
              0,
              "#0d0887"
             ],
             [
              0.1111111111111111,
              "#46039f"
             ],
             [
              0.2222222222222222,
              "#7201a8"
             ],
             [
              0.3333333333333333,
              "#9c179e"
             ],
             [
              0.4444444444444444,
              "#bd3786"
             ],
             [
              0.5555555555555556,
              "#d8576b"
             ],
             [
              0.6666666666666666,
              "#ed7953"
             ],
             [
              0.7777777777777778,
              "#fb9f3a"
             ],
             [
              0.8888888888888888,
              "#fdca26"
             ],
             [
              1,
              "#f0f921"
             ]
            ],
            "type": "heatmapgl"
           }
          ],
          "histogram": [
           {
            "marker": {
             "colorbar": {
              "outlinewidth": 0,
              "ticks": ""
             }
            },
            "type": "histogram"
           }
          ],
          "histogram2d": [
           {
            "colorbar": {
             "outlinewidth": 0,
             "ticks": ""
            },
            "colorscale": [
             [
              0,
              "#0d0887"
             ],
             [
              0.1111111111111111,
              "#46039f"
             ],
             [
              0.2222222222222222,
              "#7201a8"
             ],
             [
              0.3333333333333333,
              "#9c179e"
             ],
             [
              0.4444444444444444,
              "#bd3786"
             ],
             [
              0.5555555555555556,
              "#d8576b"
             ],
             [
              0.6666666666666666,
              "#ed7953"
             ],
             [
              0.7777777777777778,
              "#fb9f3a"
             ],
             [
              0.8888888888888888,
              "#fdca26"
             ],
             [
              1,
              "#f0f921"
             ]
            ],
            "type": "histogram2d"
           }
          ],
          "histogram2dcontour": [
           {
            "colorbar": {
             "outlinewidth": 0,
             "ticks": ""
            },
            "colorscale": [
             [
              0,
              "#0d0887"
             ],
             [
              0.1111111111111111,
              "#46039f"
             ],
             [
              0.2222222222222222,
              "#7201a8"
             ],
             [
              0.3333333333333333,
              "#9c179e"
             ],
             [
              0.4444444444444444,
              "#bd3786"
             ],
             [
              0.5555555555555556,
              "#d8576b"
             ],
             [
              0.6666666666666666,
              "#ed7953"
             ],
             [
              0.7777777777777778,
              "#fb9f3a"
             ],
             [
              0.8888888888888888,
              "#fdca26"
             ],
             [
              1,
              "#f0f921"
             ]
            ],
            "type": "histogram2dcontour"
           }
          ],
          "mesh3d": [
           {
            "colorbar": {
             "outlinewidth": 0,
             "ticks": ""
            },
            "type": "mesh3d"
           }
          ],
          "parcoords": [
           {
            "line": {
             "colorbar": {
              "outlinewidth": 0,
              "ticks": ""
             }
            },
            "type": "parcoords"
           }
          ],
          "pie": [
           {
            "automargin": true,
            "type": "pie"
           }
          ],
          "scatter": [
           {
            "marker": {
             "colorbar": {
              "outlinewidth": 0,
              "ticks": ""
             }
            },
            "type": "scatter"
           }
          ],
          "scatter3d": [
           {
            "line": {
             "colorbar": {
              "outlinewidth": 0,
              "ticks": ""
             }
            },
            "marker": {
             "colorbar": {
              "outlinewidth": 0,
              "ticks": ""
             }
            },
            "type": "scatter3d"
           }
          ],
          "scattercarpet": [
           {
            "marker": {
             "colorbar": {
              "outlinewidth": 0,
              "ticks": ""
             }
            },
            "type": "scattercarpet"
           }
          ],
          "scattergeo": [
           {
            "marker": {
             "colorbar": {
              "outlinewidth": 0,
              "ticks": ""
             }
            },
            "type": "scattergeo"
           }
          ],
          "scattergl": [
           {
            "marker": {
             "colorbar": {
              "outlinewidth": 0,
              "ticks": ""
             }
            },
            "type": "scattergl"
           }
          ],
          "scattermapbox": [
           {
            "marker": {
             "colorbar": {
              "outlinewidth": 0,
              "ticks": ""
             }
            },
            "type": "scattermapbox"
           }
          ],
          "scatterpolar": [
           {
            "marker": {
             "colorbar": {
              "outlinewidth": 0,
              "ticks": ""
             }
            },
            "type": "scatterpolar"
           }
          ],
          "scatterpolargl": [
           {
            "marker": {
             "colorbar": {
              "outlinewidth": 0,
              "ticks": ""
             }
            },
            "type": "scatterpolargl"
           }
          ],
          "scatterternary": [
           {
            "marker": {
             "colorbar": {
              "outlinewidth": 0,
              "ticks": ""
             }
            },
            "type": "scatterternary"
           }
          ],
          "surface": [
           {
            "colorbar": {
             "outlinewidth": 0,
             "ticks": ""
            },
            "colorscale": [
             [
              0,
              "#0d0887"
             ],
             [
              0.1111111111111111,
              "#46039f"
             ],
             [
              0.2222222222222222,
              "#7201a8"
             ],
             [
              0.3333333333333333,
              "#9c179e"
             ],
             [
              0.4444444444444444,
              "#bd3786"
             ],
             [
              0.5555555555555556,
              "#d8576b"
             ],
             [
              0.6666666666666666,
              "#ed7953"
             ],
             [
              0.7777777777777778,
              "#fb9f3a"
             ],
             [
              0.8888888888888888,
              "#fdca26"
             ],
             [
              1,
              "#f0f921"
             ]
            ],
            "type": "surface"
           }
          ],
          "table": [
           {
            "cells": {
             "fill": {
              "color": "#EBF0F8"
             },
             "line": {
              "color": "white"
             }
            },
            "header": {
             "fill": {
              "color": "#C8D4E3"
             },
             "line": {
              "color": "white"
             }
            },
            "type": "table"
           }
          ]
         },
         "layout": {
          "annotationdefaults": {
           "arrowcolor": "#2a3f5f",
           "arrowhead": 0,
           "arrowwidth": 1
          },
          "autotypenumbers": "strict",
          "coloraxis": {
           "colorbar": {
            "outlinewidth": 0,
            "ticks": ""
           }
          },
          "colorscale": {
           "diverging": [
            [
             0,
             "#8e0152"
            ],
            [
             0.1,
             "#c51b7d"
            ],
            [
             0.2,
             "#de77ae"
            ],
            [
             0.3,
             "#f1b6da"
            ],
            [
             0.4,
             "#fde0ef"
            ],
            [
             0.5,
             "#f7f7f7"
            ],
            [
             0.6,
             "#e6f5d0"
            ],
            [
             0.7,
             "#b8e186"
            ],
            [
             0.8,
             "#7fbc41"
            ],
            [
             0.9,
             "#4d9221"
            ],
            [
             1,
             "#276419"
            ]
           ],
           "sequential": [
            [
             0,
             "#0d0887"
            ],
            [
             0.1111111111111111,
             "#46039f"
            ],
            [
             0.2222222222222222,
             "#7201a8"
            ],
            [
             0.3333333333333333,
             "#9c179e"
            ],
            [
             0.4444444444444444,
             "#bd3786"
            ],
            [
             0.5555555555555556,
             "#d8576b"
            ],
            [
             0.6666666666666666,
             "#ed7953"
            ],
            [
             0.7777777777777778,
             "#fb9f3a"
            ],
            [
             0.8888888888888888,
             "#fdca26"
            ],
            [
             1,
             "#f0f921"
            ]
           ],
           "sequentialminus": [
            [
             0,
             "#0d0887"
            ],
            [
             0.1111111111111111,
             "#46039f"
            ],
            [
             0.2222222222222222,
             "#7201a8"
            ],
            [
             0.3333333333333333,
             "#9c179e"
            ],
            [
             0.4444444444444444,
             "#bd3786"
            ],
            [
             0.5555555555555556,
             "#d8576b"
            ],
            [
             0.6666666666666666,
             "#ed7953"
            ],
            [
             0.7777777777777778,
             "#fb9f3a"
            ],
            [
             0.8888888888888888,
             "#fdca26"
            ],
            [
             1,
             "#f0f921"
            ]
           ]
          },
          "colorway": [
           "#636efa",
           "#EF553B",
           "#00cc96",
           "#ab63fa",
           "#FFA15A",
           "#19d3f3",
           "#FF6692",
           "#B6E880",
           "#FF97FF",
           "#FECB52"
          ],
          "font": {
           "color": "#2a3f5f"
          },
          "geo": {
           "bgcolor": "white",
           "lakecolor": "white",
           "landcolor": "#E5ECF6",
           "showlakes": true,
           "showland": true,
           "subunitcolor": "white"
          },
          "hoverlabel": {
           "align": "left"
          },
          "hovermode": "closest",
          "mapbox": {
           "style": "light"
          },
          "paper_bgcolor": "white",
          "plot_bgcolor": "#E5ECF6",
          "polar": {
           "angularaxis": {
            "gridcolor": "white",
            "linecolor": "white",
            "ticks": ""
           },
           "bgcolor": "#E5ECF6",
           "radialaxis": {
            "gridcolor": "white",
            "linecolor": "white",
            "ticks": ""
           }
          },
          "scene": {
           "xaxis": {
            "backgroundcolor": "#E5ECF6",
            "gridcolor": "white",
            "gridwidth": 2,
            "linecolor": "white",
            "showbackground": true,
            "ticks": "",
            "zerolinecolor": "white"
           },
           "yaxis": {
            "backgroundcolor": "#E5ECF6",
            "gridcolor": "white",
            "gridwidth": 2,
            "linecolor": "white",
            "showbackground": true,
            "ticks": "",
            "zerolinecolor": "white"
           },
           "zaxis": {
            "backgroundcolor": "#E5ECF6",
            "gridcolor": "white",
            "gridwidth": 2,
            "linecolor": "white",
            "showbackground": true,
            "ticks": "",
            "zerolinecolor": "white"
           }
          },
          "shapedefaults": {
           "line": {
            "color": "#2a3f5f"
           }
          },
          "ternary": {
           "aaxis": {
            "gridcolor": "white",
            "linecolor": "white",
            "ticks": ""
           },
           "baxis": {
            "gridcolor": "white",
            "linecolor": "white",
            "ticks": ""
           },
           "bgcolor": "#E5ECF6",
           "caxis": {
            "gridcolor": "white",
            "linecolor": "white",
            "ticks": ""
           }
          },
          "title": {
           "x": 0.05
          },
          "xaxis": {
           "automargin": true,
           "gridcolor": "white",
           "linecolor": "white",
           "ticks": "",
           "title": {
            "standoff": 15
           },
           "zerolinecolor": "white",
           "zerolinewidth": 2
          },
          "yaxis": {
           "automargin": true,
           "gridcolor": "white",
           "linecolor": "white",
           "ticks": "",
           "title": {
            "standoff": 15
           },
           "zerolinecolor": "white",
           "zerolinewidth": 2
          }
         }
        },
        "title": {
         "text": "India 1950-2019 GDP Disaggregation"
        },
        "xaxis": {
         "anchor": "y",
         "domain": [
          0,
          1
         ],
         "title": {
          "text": "Date"
         }
        },
        "yaxis": {
         "anchor": "x",
         "domain": [
          0,
          1
         ],
         "title": {
          "text": "value"
         }
        }
       }
      },
      "text/html": [
       "<div>                            <div id=\"45a672c0-ece9-4633-a9b9-91a7accd825a\" class=\"plotly-graph-div\" style=\"height:525px; width:100%;\"></div>            <script type=\"text/javascript\">                require([\"plotly\"], function(Plotly) {                    window.PLOTLYENV=window.PLOTLYENV || {};                                    if (document.getElementById(\"45a672c0-ece9-4633-a9b9-91a7accd825a\")) {                    Plotly.newPlot(                        \"45a672c0-ece9-4633-a9b9-91a7accd825a\",                        [{\"alignmentgroup\": \"True\", \"hovertemplate\": \"variable=csh_x<br>Date=%{x}<br>value=%{y}<extra></extra>\", \"legendgroup\": \"csh_x\", \"marker\": {\"color\": \"#636efa\"}, \"name\": \"csh_x\", \"offsetgroup\": \"csh_x\", \"orientation\": \"v\", \"showlegend\": true, \"textposition\": \"auto\", \"type\": \"bar\", \"x\": [\"1950-01-01\", \"1951-01-01\", \"1952-01-01\", \"1953-01-01\", \"1954-01-01\", \"1955-01-01\", \"1956-01-01\", \"1957-01-01\", \"1958-01-01\", \"1959-01-01\", \"1960-01-01\", \"1961-01-01\", \"1962-01-01\", \"1963-01-01\", \"1964-01-01\", \"1965-01-01\", \"1966-01-01\", \"1967-01-01\", \"1968-01-01\", \"1969-01-01\", \"1970-01-01\", \"1971-01-01\", \"1972-01-01\", \"1973-01-01\", \"1974-01-01\", \"1975-01-01\", \"1976-01-01\", \"1977-01-01\", \"1978-01-01\", \"1979-01-01\", \"1980-01-01\", \"1981-01-01\", \"1982-01-01\", \"1983-01-01\", \"1984-01-01\", \"1985-01-01\", \"1986-01-01\", \"1987-01-01\", \"1988-01-01\", \"1989-01-01\", \"1990-01-01\", \"1991-01-01\", \"1992-01-01\", \"1993-01-01\", \"1994-01-01\", \"1995-01-01\", \"1996-01-01\", \"1997-01-01\", \"1998-01-01\", \"1999-01-01\", \"2000-01-01\", \"2001-01-01\", \"2002-01-01\", \"2003-01-01\", \"2004-01-01\", \"2005-01-01\", \"2006-01-01\", \"2007-01-01\", \"2008-01-01\", \"2009-01-01\", \"2010-01-01\", \"2011-01-01\", \"2012-01-01\", \"2013-01-01\", \"2014-01-01\", \"2015-01-01\", \"2016-01-01\", \"2017-01-01\", \"2018-01-01\", \"2019-01-01\"], \"xaxis\": \"x\", \"y\": [0.036188337951898575, 0.029507370665669438, 0.0283601488918066, 0.027209235355257988, 0.027781138196587563, 0.029248654842376712, 0.028060071170330048, 0.028707699850201607, 0.02332781441509724, 0.024948302656412125, 0.021117974072694782, 0.020312970504164696, 0.020008046180009842, 0.021792571991682053, 0.0215818639844656, 0.019570721313357357, 0.017637202516198158, 0.017693856731057167, 0.018796820193529132, 0.0164977665990591, 0.016292363405227658, 0.01523030549287796, 0.01575049571692944, 0.016226187348365784, 0.01990308053791523, 0.0188931543380022, 0.023523813113570213, 0.022541219368577003, 0.022343235090374947, 0.02674573287367821, 0.027022439986467358, 0.02679718099534512, 0.029161052778363224, 0.029428932815790176, 0.0307553019374609, 0.02693168632686138, 0.025272734463214874, 0.027306942269206047, 0.02691400796175003, 0.029769845306873318, 0.029110539704561237, 0.02684856206178665, 0.0323643796145916, 0.032710880041122437, 0.03659304603934288, 0.037459582090377815, 0.03631336614489555, 0.037779495120048516, 0.03543955832719803, 0.03739839419722557, 0.04115397483110428, 0.04120692238211632, 0.04381852969527245, 0.04356484487652778, 0.046887531876564026, 0.053158488124608994, 0.055814579129219055, 0.05499189719557762, 0.058507934212684624, 0.056655824184417725, 0.059049233794212334, 0.07143013179302216, 0.06436453014612198, 0.07173775881528854, 0.06407975405454636, 0.05558876320719719, 0.05250391364097595, 0.054803695529699326, 0.053512398153543465, 0.051061458885669715], \"yaxis\": \"y\"}, {\"alignmentgroup\": \"True\", \"hovertemplate\": \"variable=csh_i<br>Date=%{x}<br>value=%{y}<extra></extra>\", \"legendgroup\": \"csh_i\", \"marker\": {\"color\": \"#EF553B\"}, \"name\": \"csh_i\", \"offsetgroup\": \"csh_i\", \"orientation\": \"v\", \"showlegend\": true, \"textposition\": \"auto\", \"type\": \"bar\", \"x\": [\"1950-01-01\", \"1951-01-01\", \"1952-01-01\", \"1953-01-01\", \"1954-01-01\", \"1955-01-01\", \"1956-01-01\", \"1957-01-01\", \"1958-01-01\", \"1959-01-01\", \"1960-01-01\", \"1961-01-01\", \"1962-01-01\", \"1963-01-01\", \"1964-01-01\", \"1965-01-01\", \"1966-01-01\", \"1967-01-01\", \"1968-01-01\", \"1969-01-01\", \"1970-01-01\", \"1971-01-01\", \"1972-01-01\", \"1973-01-01\", \"1974-01-01\", \"1975-01-01\", \"1976-01-01\", \"1977-01-01\", \"1978-01-01\", \"1979-01-01\", \"1980-01-01\", \"1981-01-01\", \"1982-01-01\", \"1983-01-01\", \"1984-01-01\", \"1985-01-01\", \"1986-01-01\", \"1987-01-01\", \"1988-01-01\", \"1989-01-01\", \"1990-01-01\", \"1991-01-01\", \"1992-01-01\", \"1993-01-01\", \"1994-01-01\", \"1995-01-01\", \"1996-01-01\", \"1997-01-01\", \"1998-01-01\", \"1999-01-01\", \"2000-01-01\", \"2001-01-01\", \"2002-01-01\", \"2003-01-01\", \"2004-01-01\", \"2005-01-01\", \"2006-01-01\", \"2007-01-01\", \"2008-01-01\", \"2009-01-01\", \"2010-01-01\", \"2011-01-01\", \"2012-01-01\", \"2013-01-01\", \"2014-01-01\", \"2015-01-01\", \"2016-01-01\", \"2017-01-01\", \"2018-01-01\", \"2019-01-01\"], \"xaxis\": \"x\", \"y\": [0.0856076180934906, 0.10058768093585968, 0.07854291051626205, 0.08668743073940277, 0.11164233088493347, 0.12340573221445085, 0.13787439465522766, 0.1288069635629654, 0.12263745814561845, 0.12444115430116652, 0.15739816427230835, 0.14418037235736847, 0.14964325726032254, 0.15408319234848022, 0.15981385111808774, 0.16643357276916504, 0.1690046191215515, 0.15447057783603668, 0.14024662971496582, 0.14000244438648224, 0.15078628063201904, 0.15800300240516665, 0.1461731493473053, 0.16575050354003906, 0.16206614673137665, 0.1359850913286209, 0.14993351697921753, 0.1626645028591156, 0.18558578193187714, 0.16652829945087433, 0.16722604632377625, 0.1478068381547928, 0.14637747406959534, 0.14070060849189758, 0.13801927864551544, 0.13792380690574646, 0.13783547282218933, 0.1502954363822937, 0.15815970301628113, 0.15874402225017548, 0.17489799857139587, 0.1452288180589676, 0.15919998288154602, 0.1590760052204132, 0.17844048142433167, 0.17633475363254547, 0.16510778665542605, 0.18607595562934875, 0.18253861367702484, 0.2066042572259903, 0.19525064527988434, 0.2016296088695526, 0.2154669314622879, 0.2339318990707397, 0.2802467346191406, 0.3012323975563049, 0.30032995343208313, 0.3367939591407776, 0.3012247979640961, 0.3228515088558197, 0.34156858921051025, 0.3338458240032196, 0.3121625483036041, 0.283821165561676, 0.2878055870532989, 0.2761174738407135, 0.2784913182258606, 0.30235496163368225, 0.2801036536693573, 0.27037954330444336], \"yaxis\": \"y\"}, {\"alignmentgroup\": \"True\", \"hovertemplate\": \"variable=csh_g<br>Date=%{x}<br>value=%{y}<extra></extra>\", \"legendgroup\": \"csh_g\", \"marker\": {\"color\": \"#00cc96\"}, \"name\": \"csh_g\", \"offsetgroup\": \"csh_g\", \"orientation\": \"v\", \"showlegend\": true, \"textposition\": \"auto\", \"type\": \"bar\", \"x\": [\"1950-01-01\", \"1951-01-01\", \"1952-01-01\", \"1953-01-01\", \"1954-01-01\", \"1955-01-01\", \"1956-01-01\", \"1957-01-01\", \"1958-01-01\", \"1959-01-01\", \"1960-01-01\", \"1961-01-01\", \"1962-01-01\", \"1963-01-01\", \"1964-01-01\", \"1965-01-01\", \"1966-01-01\", \"1967-01-01\", \"1968-01-01\", \"1969-01-01\", \"1970-01-01\", \"1971-01-01\", \"1972-01-01\", \"1973-01-01\", \"1974-01-01\", \"1975-01-01\", \"1976-01-01\", \"1977-01-01\", \"1978-01-01\", \"1979-01-01\", \"1980-01-01\", \"1981-01-01\", \"1982-01-01\", \"1983-01-01\", \"1984-01-01\", \"1985-01-01\", \"1986-01-01\", \"1987-01-01\", \"1988-01-01\", \"1989-01-01\", \"1990-01-01\", \"1991-01-01\", \"1992-01-01\", \"1993-01-01\", \"1994-01-01\", \"1995-01-01\", \"1996-01-01\", \"1997-01-01\", \"1998-01-01\", \"1999-01-01\", \"2000-01-01\", \"2001-01-01\", \"2002-01-01\", \"2003-01-01\", \"2004-01-01\", \"2005-01-01\", \"2006-01-01\", \"2007-01-01\", \"2008-01-01\", \"2009-01-01\", \"2010-01-01\", \"2011-01-01\", \"2012-01-01\", \"2013-01-01\", \"2014-01-01\", \"2015-01-01\", \"2016-01-01\", \"2017-01-01\", \"2018-01-01\", \"2019-01-01\"], \"xaxis\": \"x\", \"y\": [0.07053126394748688, 0.07133285701274872, 0.07523174583911896, 0.07680051028728485, 0.08593116700649261, 0.08995813876390457, 0.08834487199783325, 0.10078824311494827, 0.1000375896692276, 0.10340572148561478, 0.10268869996070862, 0.10847609490156174, 0.12506800889968872, 0.14645874500274658, 0.1434069573879242, 0.1628129780292511, 0.16780774295330048, 0.16042876243591309, 0.16401512920856476, 0.16570687294006348, 0.1802968680858612, 0.1998540461063385, 0.20621968805789948, 0.2034965306520462, 0.20551683008670807, 0.2165069282054901, 0.2167349606752396, 0.2092972546815872, 0.21261096000671387, 0.22469833493232727, 0.21559932827949524, 0.2052582800388336, 0.20783564448356628, 0.19069558382034305, 0.18701045215129847, 0.18888166546821594, 0.1955479234457016, 0.1976164430379868, 0.18907900154590607, 0.1834077835083008, 0.16498100757598874, 0.15639616549015045, 0.15118913352489471, 0.14774855971336365, 0.1396705061197281, 0.13503940403461456, 0.12480537593364716, 0.13628479838371274, 0.14238163828849792, 0.14923584461212158, 0.14492161571979525, 0.14100560545921326, 0.13256968557834625, 0.12790435552597046, 0.1232948899269104, 0.11982563883066175, 0.11002639681100844, 0.10699592530727386, 0.1109287440776825, 0.11724615842103958, 0.10683853179216383, 0.10594679415225984, 0.1014370694756508, 0.09269662946462633, 0.08652032911777496, 0.07987537980079651, 0.07277999818325043, 0.07159131020307541, 0.07401340454816817, 0.07331936806440352], \"yaxis\": \"y\"}, {\"alignmentgroup\": \"True\", \"hovertemplate\": \"variable=csh_c<br>Date=%{x}<br>value=%{y}<extra></extra>\", \"legendgroup\": \"csh_c\", \"marker\": {\"color\": \"#ab63fa\"}, \"name\": \"csh_c\", \"offsetgroup\": \"csh_c\", \"orientation\": \"v\", \"showlegend\": true, \"textposition\": \"auto\", \"type\": \"bar\", \"x\": [\"1950-01-01\", \"1951-01-01\", \"1952-01-01\", \"1953-01-01\", \"1954-01-01\", \"1955-01-01\", \"1956-01-01\", \"1957-01-01\", \"1958-01-01\", \"1959-01-01\", \"1960-01-01\", \"1961-01-01\", \"1962-01-01\", \"1963-01-01\", \"1964-01-01\", \"1965-01-01\", \"1966-01-01\", \"1967-01-01\", \"1968-01-01\", \"1969-01-01\", \"1970-01-01\", \"1971-01-01\", \"1972-01-01\", \"1973-01-01\", \"1974-01-01\", \"1975-01-01\", \"1976-01-01\", \"1977-01-01\", \"1978-01-01\", \"1979-01-01\", \"1980-01-01\", \"1981-01-01\", \"1982-01-01\", \"1983-01-01\", \"1984-01-01\", \"1985-01-01\", \"1986-01-01\", \"1987-01-01\", \"1988-01-01\", \"1989-01-01\", \"1990-01-01\", \"1991-01-01\", \"1992-01-01\", \"1993-01-01\", \"1994-01-01\", \"1995-01-01\", \"1996-01-01\", \"1997-01-01\", \"1998-01-01\", \"1999-01-01\", \"2000-01-01\", \"2001-01-01\", \"2002-01-01\", \"2003-01-01\", \"2004-01-01\", \"2005-01-01\", \"2006-01-01\", \"2007-01-01\", \"2008-01-01\", \"2009-01-01\", \"2010-01-01\", \"2011-01-01\", \"2012-01-01\", \"2013-01-01\", \"2014-01-01\", \"2015-01-01\", \"2016-01-01\", \"2017-01-01\", \"2018-01-01\", \"2019-01-01\"], \"xaxis\": \"x\", \"y\": [0.8951540589332581, 0.8961787223815918, 0.9000668525695801, 0.8887404799461365, 0.8529669642448425, 0.837356686592102, 0.8379031419754028, 0.8356678485870361, 0.8366703391075134, 0.8273477554321289, 0.8064563274383545, 0.8086893558502197, 0.7851346135139465, 0.7588755488395691, 0.7597737908363342, 0.7306773066520691, 0.7226076722145081, 0.74114990234375, 0.7472109794616699, 0.7446007728576659, 0.7190228104591371, 0.7142866849899292, 0.7065080404281616, 0.6962135434150696, 0.7117823958396912, 0.6961953043937683, 0.6641448140144348, 0.6728754639625549, 0.6810005903244019, 0.672913134098053, 0.6744331121444702, 0.6914392113685608, 0.6974596977233887, 0.7171252965927124, 0.7212861776351929, 0.7219702005386353, 0.7188744544982909, 0.7109829783439636, 0.7065598964691162, 0.7011317014694214, 0.7119017243385315, 0.7087873220443726, 0.6931436061859131, 0.6927144527435303, 0.6939979195594788, 0.6929808259010315, 0.7041698098182678, 0.6924023032188416, 0.6791892647743225, 0.6746847629547119, 0.6655168533325195, 0.6706392765045166, 0.6551187038421631, 0.6389151811599731, 0.6180593371391296, 0.5904995799064636, 0.5707178711891174, 0.5677355527877808, 0.5806964039802551, 0.5881508588790894, 0.5669001340866089, 0.5831465125083923, 0.5824543237686157, 0.6060397624969482, 0.6135661602020264, 0.6288496851921082, 0.6422334313392639, 0.6389186382293701, 0.6381155848503113, 0.649477481842041], \"yaxis\": \"y\"}, {\"alignmentgroup\": \"True\", \"hovertemplate\": \"variable=csh_m<br>Date=%{x}<br>value=%{y}<extra></extra>\", \"legendgroup\": \"csh_m\", \"marker\": {\"color\": \"#FFA15A\"}, \"name\": \"csh_m\", \"offsetgroup\": \"csh_m\", \"orientation\": \"v\", \"showlegend\": true, \"textposition\": \"auto\", \"type\": \"bar\", \"x\": [\"1950-01-01\", \"1951-01-01\", \"1952-01-01\", \"1953-01-01\", \"1954-01-01\", \"1955-01-01\", \"1956-01-01\", \"1957-01-01\", \"1958-01-01\", \"1959-01-01\", \"1960-01-01\", \"1961-01-01\", \"1962-01-01\", \"1963-01-01\", \"1964-01-01\", \"1965-01-01\", \"1966-01-01\", \"1967-01-01\", \"1968-01-01\", \"1969-01-01\", \"1970-01-01\", \"1971-01-01\", \"1972-01-01\", \"1973-01-01\", \"1974-01-01\", \"1975-01-01\", \"1976-01-01\", \"1977-01-01\", \"1978-01-01\", \"1979-01-01\", \"1980-01-01\", \"1981-01-01\", \"1982-01-01\", \"1983-01-01\", \"1984-01-01\", \"1985-01-01\", \"1986-01-01\", \"1987-01-01\", \"1988-01-01\", \"1989-01-01\", \"1990-01-01\", \"1991-01-01\", \"1992-01-01\", \"1993-01-01\", \"1994-01-01\", \"1995-01-01\", \"1996-01-01\", \"1997-01-01\", \"1998-01-01\", \"1999-01-01\", \"2000-01-01\", \"2001-01-01\", \"2002-01-01\", \"2003-01-01\", \"2004-01-01\", \"2005-01-01\", \"2006-01-01\", \"2007-01-01\", \"2008-01-01\", \"2009-01-01\", \"2010-01-01\", \"2011-01-01\", \"2012-01-01\", \"2013-01-01\", \"2014-01-01\", \"2015-01-01\", \"2016-01-01\", \"2017-01-01\", \"2018-01-01\", \"2019-01-01\"], \"xaxis\": \"x\", \"y\": [-0.039646591991186135, -0.05163094028830528, -0.03187008202075958, -0.029120843857526783, -0.03326866403222084, -0.03698844835162163, -0.04871900007128716, -0.04891996085643768, -0.03865939378738403, -0.036921925842761986, -0.043066222220659256, -0.03706597909331322, -0.03607655316591263, -0.0314314104616642, -0.029855741187930107, -0.03249310329556465, -0.02973037399351597, -0.030501674860715863, -0.027293389663100243, -0.02016428112983704, -0.017309615388512608, -0.02005906961858273, -0.017185762524604797, -0.017088176682591442, -0.02041829191148281, -0.015988299623131752, -0.01864134892821312, -0.02358327060937881, -0.0229048989713192, -0.027103107422590256, -0.03554926812648773, -0.04163583740592003, -0.03217960149049759, -0.05048903077840805, -0.041059259325265884, -0.0451776422560215, -0.03673699870705605, -0.03393958508968353, -0.03410694748163223, -0.03455672785639763, -0.033449936658144, -0.02596669271588325, -0.032803069800138474, -0.03136245533823967, -0.0354994460940361, -0.039134036749601364, -0.03965478017926216, -0.04207362607121468, -0.04194548726081848, -0.04627858474850655, -0.04970719292759895, -0.046954572200775146, -0.05011575669050217, -0.05203606188297272, -0.06177259236574172, -0.07280168682336807, -0.07849901914596558, -0.08056269586086273, -0.10136381536722183, -0.08985739201307298, -0.09702476859092712, -0.11155632883310318, -0.11243505775928496, -0.10194487124681473, -0.09262624382972716, -0.0837709903717041, -0.07251743227243422, -0.08492153882980348, -0.08636514097452164, -0.07793845981359482], \"yaxis\": \"y\"}, {\"alignmentgroup\": \"True\", \"hovertemplate\": \"variable=csh_r<br>Date=%{x}<br>value=%{y}<extra></extra>\", \"legendgroup\": \"csh_r\", \"marker\": {\"color\": \"#19d3f3\"}, \"name\": \"csh_r\", \"offsetgroup\": \"csh_r\", \"orientation\": \"v\", \"showlegend\": true, \"textposition\": \"auto\", \"type\": \"bar\", \"x\": [\"1950-01-01\", \"1951-01-01\", \"1952-01-01\", \"1953-01-01\", \"1954-01-01\", \"1955-01-01\", \"1956-01-01\", \"1957-01-01\", \"1958-01-01\", \"1959-01-01\", \"1960-01-01\", \"1961-01-01\", \"1962-01-01\", \"1963-01-01\", \"1964-01-01\", \"1965-01-01\", \"1966-01-01\", \"1967-01-01\", \"1968-01-01\", \"1969-01-01\", \"1970-01-01\", \"1971-01-01\", \"1972-01-01\", \"1973-01-01\", \"1974-01-01\", \"1975-01-01\", \"1976-01-01\", \"1977-01-01\", \"1978-01-01\", \"1979-01-01\", \"1980-01-01\", \"1981-01-01\", \"1982-01-01\", \"1983-01-01\", \"1984-01-01\", \"1985-01-01\", \"1986-01-01\", \"1987-01-01\", \"1988-01-01\", \"1989-01-01\", \"1990-01-01\", \"1991-01-01\", \"1992-01-01\", \"1993-01-01\", \"1994-01-01\", \"1995-01-01\", \"1996-01-01\", \"1997-01-01\", \"1998-01-01\", \"1999-01-01\", \"2000-01-01\", \"2001-01-01\", \"2002-01-01\", \"2003-01-01\", \"2004-01-01\", \"2005-01-01\", \"2006-01-01\", \"2007-01-01\", \"2008-01-01\", \"2009-01-01\", \"2010-01-01\", \"2011-01-01\", \"2012-01-01\", \"2013-01-01\", \"2014-01-01\", \"2015-01-01\", \"2016-01-01\", \"2017-01-01\", \"2018-01-01\", \"2019-01-01\"], \"xaxis\": \"x\", \"y\": [-0.047834694385528564, -0.04597572609782219, -0.050331544131040566, -0.05031682550907135, -0.04505294933915138, -0.04298078641295433, -0.043463487178087234, -0.04505081474781037, -0.04401380941271782, -0.04322105646133423, -0.04459493979811669, -0.04459283128380776, -0.043777398765087135, -0.04977864027023315, -0.054720740765333176, -0.04700146242976189, -0.047326896339654916, -0.04324142262339592, -0.042976170778274536, -0.046643611043691635, -0.049088675528764725, -0.0673149824142456, -0.0574655793607235, -0.06459856778383255, -0.078850157558918, -0.051592163741588586, -0.035695813596248634, -0.043795179575681686, -0.07863567769527435, -0.06378233432769775, -0.04873167723417282, -0.029665667563676838, -0.04865429177880287, -0.02746138721704483, -0.03601198270916939, -0.030529730021953583, -0.040793586522340775, -0.05226221308112145, -0.04660562053322792, -0.03849667310714722, -0.04744134098291397, -0.01129420194774866, -0.0030940982978791, -0.0008874690975062549, -0.013202507048845293, -0.002680565696209669, 0.00925842486321926, -0.010468962602317331, 0.002396423369646073, -0.02164473757147789, 0.002864136360585689, -0.0075268950313329705, 0.003141915425658226, 0.007719824556261302, -0.006715834606438875, 0.008085597306489944, 0.041610196232795715, 0.014045324176549913, 0.0500059574842453, 0.004953013267368078, 0.022668300196528438, 0.01718704029917717, 0.05201659351587296, 0.04764953628182411, 0.040654391050338745, 0.04333967342972755, 0.026508795097470284, 0.017252914607524872, 0.04062014818191528, 0.033700596541166306], \"yaxis\": \"y\"}],                        {\"barmode\": \"relative\", \"legend\": {\"title\": {\"text\": \"variable\"}, \"tracegroupgap\": 0}, \"template\": {\"data\": {\"bar\": [{\"error_x\": {\"color\": \"#2a3f5f\"}, \"error_y\": {\"color\": \"#2a3f5f\"}, \"marker\": {\"line\": {\"color\": \"#E5ECF6\", \"width\": 0.5}}, \"type\": \"bar\"}], \"barpolar\": [{\"marker\": {\"line\": {\"color\": \"#E5ECF6\", \"width\": 0.5}}, \"type\": \"barpolar\"}], \"carpet\": [{\"aaxis\": {\"endlinecolor\": \"#2a3f5f\", \"gridcolor\": \"white\", \"linecolor\": \"white\", \"minorgridcolor\": \"white\", \"startlinecolor\": \"#2a3f5f\"}, \"baxis\": {\"endlinecolor\": \"#2a3f5f\", \"gridcolor\": \"white\", \"linecolor\": \"white\", \"minorgridcolor\": \"white\", \"startlinecolor\": \"#2a3f5f\"}, \"type\": \"carpet\"}], \"choropleth\": [{\"colorbar\": {\"outlinewidth\": 0, \"ticks\": \"\"}, \"type\": \"choropleth\"}], \"contour\": [{\"colorbar\": {\"outlinewidth\": 0, \"ticks\": \"\"}, \"colorscale\": [[0.0, \"#0d0887\"], [0.1111111111111111, \"#46039f\"], [0.2222222222222222, \"#7201a8\"], [0.3333333333333333, \"#9c179e\"], [0.4444444444444444, \"#bd3786\"], [0.5555555555555556, \"#d8576b\"], [0.6666666666666666, \"#ed7953\"], [0.7777777777777778, \"#fb9f3a\"], [0.8888888888888888, \"#fdca26\"], [1.0, \"#f0f921\"]], \"type\": \"contour\"}], \"contourcarpet\": [{\"colorbar\": {\"outlinewidth\": 0, \"ticks\": \"\"}, \"type\": \"contourcarpet\"}], \"heatmap\": [{\"colorbar\": {\"outlinewidth\": 0, \"ticks\": \"\"}, \"colorscale\": [[0.0, \"#0d0887\"], [0.1111111111111111, \"#46039f\"], [0.2222222222222222, \"#7201a8\"], [0.3333333333333333, \"#9c179e\"], [0.4444444444444444, \"#bd3786\"], [0.5555555555555556, \"#d8576b\"], [0.6666666666666666, \"#ed7953\"], [0.7777777777777778, \"#fb9f3a\"], [0.8888888888888888, \"#fdca26\"], [1.0, \"#f0f921\"]], \"type\": \"heatmap\"}], \"heatmapgl\": [{\"colorbar\": {\"outlinewidth\": 0, \"ticks\": \"\"}, \"colorscale\": [[0.0, \"#0d0887\"], [0.1111111111111111, \"#46039f\"], [0.2222222222222222, \"#7201a8\"], [0.3333333333333333, \"#9c179e\"], [0.4444444444444444, \"#bd3786\"], [0.5555555555555556, \"#d8576b\"], [0.6666666666666666, \"#ed7953\"], [0.7777777777777778, \"#fb9f3a\"], [0.8888888888888888, \"#fdca26\"], [1.0, \"#f0f921\"]], \"type\": \"heatmapgl\"}], \"histogram\": [{\"marker\": {\"colorbar\": {\"outlinewidth\": 0, \"ticks\": \"\"}}, \"type\": \"histogram\"}], \"histogram2d\": [{\"colorbar\": {\"outlinewidth\": 0, \"ticks\": \"\"}, \"colorscale\": [[0.0, \"#0d0887\"], [0.1111111111111111, \"#46039f\"], [0.2222222222222222, \"#7201a8\"], [0.3333333333333333, \"#9c179e\"], [0.4444444444444444, \"#bd3786\"], [0.5555555555555556, \"#d8576b\"], [0.6666666666666666, \"#ed7953\"], [0.7777777777777778, \"#fb9f3a\"], [0.8888888888888888, \"#fdca26\"], [1.0, \"#f0f921\"]], \"type\": \"histogram2d\"}], \"histogram2dcontour\": [{\"colorbar\": {\"outlinewidth\": 0, \"ticks\": \"\"}, \"colorscale\": [[0.0, \"#0d0887\"], [0.1111111111111111, \"#46039f\"], [0.2222222222222222, \"#7201a8\"], [0.3333333333333333, \"#9c179e\"], [0.4444444444444444, \"#bd3786\"], [0.5555555555555556, \"#d8576b\"], [0.6666666666666666, \"#ed7953\"], [0.7777777777777778, \"#fb9f3a\"], [0.8888888888888888, \"#fdca26\"], [1.0, \"#f0f921\"]], \"type\": \"histogram2dcontour\"}], \"mesh3d\": [{\"colorbar\": {\"outlinewidth\": 0, \"ticks\": \"\"}, \"type\": \"mesh3d\"}], \"parcoords\": [{\"line\": {\"colorbar\": {\"outlinewidth\": 0, \"ticks\": \"\"}}, \"type\": \"parcoords\"}], \"pie\": [{\"automargin\": true, \"type\": \"pie\"}], \"scatter\": [{\"marker\": {\"colorbar\": {\"outlinewidth\": 0, \"ticks\": \"\"}}, \"type\": \"scatter\"}], \"scatter3d\": [{\"line\": {\"colorbar\": {\"outlinewidth\": 0, \"ticks\": \"\"}}, \"marker\": {\"colorbar\": {\"outlinewidth\": 0, \"ticks\": \"\"}}, \"type\": \"scatter3d\"}], \"scattercarpet\": [{\"marker\": {\"colorbar\": {\"outlinewidth\": 0, \"ticks\": \"\"}}, \"type\": \"scattercarpet\"}], \"scattergeo\": [{\"marker\": {\"colorbar\": {\"outlinewidth\": 0, \"ticks\": \"\"}}, \"type\": \"scattergeo\"}], \"scattergl\": [{\"marker\": {\"colorbar\": {\"outlinewidth\": 0, \"ticks\": \"\"}}, \"type\": \"scattergl\"}], \"scattermapbox\": [{\"marker\": {\"colorbar\": {\"outlinewidth\": 0, \"ticks\": \"\"}}, \"type\": \"scattermapbox\"}], \"scatterpolar\": [{\"marker\": {\"colorbar\": {\"outlinewidth\": 0, \"ticks\": \"\"}}, \"type\": \"scatterpolar\"}], \"scatterpolargl\": [{\"marker\": {\"colorbar\": {\"outlinewidth\": 0, \"ticks\": \"\"}}, \"type\": \"scatterpolargl\"}], \"scatterternary\": [{\"marker\": {\"colorbar\": {\"outlinewidth\": 0, \"ticks\": \"\"}}, \"type\": \"scatterternary\"}], \"surface\": [{\"colorbar\": {\"outlinewidth\": 0, \"ticks\": \"\"}, \"colorscale\": [[0.0, \"#0d0887\"], [0.1111111111111111, \"#46039f\"], [0.2222222222222222, \"#7201a8\"], [0.3333333333333333, \"#9c179e\"], [0.4444444444444444, \"#bd3786\"], [0.5555555555555556, \"#d8576b\"], [0.6666666666666666, \"#ed7953\"], [0.7777777777777778, \"#fb9f3a\"], [0.8888888888888888, \"#fdca26\"], [1.0, \"#f0f921\"]], \"type\": \"surface\"}], \"table\": [{\"cells\": {\"fill\": {\"color\": \"#EBF0F8\"}, \"line\": {\"color\": \"white\"}}, \"header\": {\"fill\": {\"color\": \"#C8D4E3\"}, \"line\": {\"color\": \"white\"}}, \"type\": \"table\"}]}, \"layout\": {\"annotationdefaults\": {\"arrowcolor\": \"#2a3f5f\", \"arrowhead\": 0, \"arrowwidth\": 1}, \"autotypenumbers\": \"strict\", \"coloraxis\": {\"colorbar\": {\"outlinewidth\": 0, \"ticks\": \"\"}}, \"colorscale\": {\"diverging\": [[0, \"#8e0152\"], [0.1, \"#c51b7d\"], [0.2, \"#de77ae\"], [0.3, \"#f1b6da\"], [0.4, \"#fde0ef\"], [0.5, \"#f7f7f7\"], [0.6, \"#e6f5d0\"], [0.7, \"#b8e186\"], [0.8, \"#7fbc41\"], [0.9, \"#4d9221\"], [1, \"#276419\"]], \"sequential\": [[0.0, \"#0d0887\"], [0.1111111111111111, \"#46039f\"], [0.2222222222222222, \"#7201a8\"], [0.3333333333333333, \"#9c179e\"], [0.4444444444444444, \"#bd3786\"], [0.5555555555555556, \"#d8576b\"], [0.6666666666666666, \"#ed7953\"], [0.7777777777777778, \"#fb9f3a\"], [0.8888888888888888, \"#fdca26\"], [1.0, \"#f0f921\"]], \"sequentialminus\": [[0.0, \"#0d0887\"], [0.1111111111111111, \"#46039f\"], [0.2222222222222222, \"#7201a8\"], [0.3333333333333333, \"#9c179e\"], [0.4444444444444444, \"#bd3786\"], [0.5555555555555556, \"#d8576b\"], [0.6666666666666666, \"#ed7953\"], [0.7777777777777778, \"#fb9f3a\"], [0.8888888888888888, \"#fdca26\"], [1.0, \"#f0f921\"]]}, \"colorway\": [\"#636efa\", \"#EF553B\", \"#00cc96\", \"#ab63fa\", \"#FFA15A\", \"#19d3f3\", \"#FF6692\", \"#B6E880\", \"#FF97FF\", \"#FECB52\"], \"font\": {\"color\": \"#2a3f5f\"}, \"geo\": {\"bgcolor\": \"white\", \"lakecolor\": \"white\", \"landcolor\": \"#E5ECF6\", \"showlakes\": true, \"showland\": true, \"subunitcolor\": \"white\"}, \"hoverlabel\": {\"align\": \"left\"}, \"hovermode\": \"closest\", \"mapbox\": {\"style\": \"light\"}, \"paper_bgcolor\": \"white\", \"plot_bgcolor\": \"#E5ECF6\", \"polar\": {\"angularaxis\": {\"gridcolor\": \"white\", \"linecolor\": \"white\", \"ticks\": \"\"}, \"bgcolor\": \"#E5ECF6\", \"radialaxis\": {\"gridcolor\": \"white\", \"linecolor\": \"white\", \"ticks\": \"\"}}, \"scene\": {\"xaxis\": {\"backgroundcolor\": \"#E5ECF6\", \"gridcolor\": \"white\", \"gridwidth\": 2, \"linecolor\": \"white\", \"showbackground\": true, \"ticks\": \"\", \"zerolinecolor\": \"white\"}, \"yaxis\": {\"backgroundcolor\": \"#E5ECF6\", \"gridcolor\": \"white\", \"gridwidth\": 2, \"linecolor\": \"white\", \"showbackground\": true, \"ticks\": \"\", \"zerolinecolor\": \"white\"}, \"zaxis\": {\"backgroundcolor\": \"#E5ECF6\", \"gridcolor\": \"white\", \"gridwidth\": 2, \"linecolor\": \"white\", \"showbackground\": true, \"ticks\": \"\", \"zerolinecolor\": \"white\"}}, \"shapedefaults\": {\"line\": {\"color\": \"#2a3f5f\"}}, \"ternary\": {\"aaxis\": {\"gridcolor\": \"white\", \"linecolor\": \"white\", \"ticks\": \"\"}, \"baxis\": {\"gridcolor\": \"white\", \"linecolor\": \"white\", \"ticks\": \"\"}, \"bgcolor\": \"#E5ECF6\", \"caxis\": {\"gridcolor\": \"white\", \"linecolor\": \"white\", \"ticks\": \"\"}}, \"title\": {\"x\": 0.05}, \"xaxis\": {\"automargin\": true, \"gridcolor\": \"white\", \"linecolor\": \"white\", \"ticks\": \"\", \"title\": {\"standoff\": 15}, \"zerolinecolor\": \"white\", \"zerolinewidth\": 2}, \"yaxis\": {\"automargin\": true, \"gridcolor\": \"white\", \"linecolor\": \"white\", \"ticks\": \"\", \"title\": {\"standoff\": 15}, \"zerolinecolor\": \"white\", \"zerolinewidth\": 2}}}, \"title\": {\"text\": \"India 1950-2019 GDP Disaggregation\"}, \"xaxis\": {\"anchor\": \"y\", \"domain\": [0.0, 1.0], \"title\": {\"text\": \"Date\"}}, \"yaxis\": {\"anchor\": \"x\", \"domain\": [0.0, 1.0], \"title\": {\"text\": \"value\"}}},                        {\"responsive\": true}                    ).then(function(){\n",
       "                            \n",
       "var gd = document.getElementById('45a672c0-ece9-4633-a9b9-91a7accd825a');\n",
       "var x = new MutationObserver(function (mutations, observer) {{\n",
       "        var display = window.getComputedStyle(gd).display;\n",
       "        if (!display || display === 'none') {{\n",
       "            console.log([gd, 'removed!']);\n",
       "            Plotly.purge(gd);\n",
       "            observer.disconnect();\n",
       "        }}\n",
       "}});\n",
       "\n",
       "// Listen for the removal of the full notebook cells\n",
       "var notebookContainer = gd.closest('#notebook-container');\n",
       "if (notebookContainer) {{\n",
       "    x.observe(notebookContainer, {childList: true});\n",
       "}}\n",
       "\n",
       "// Listen for the clearing of the current output cell\n",
       "var outputEl = gd.closest('.output');\n",
       "if (outputEl) {{\n",
       "    x.observe(outputEl, {childList: true});\n",
       "}}\n",
       "\n",
       "                        })                };                });            </script>        </div>"
      ]
     },
     "metadata": {},
     "output_type": "display_data"
    }
   ],
   "source": [
    "fig_p = px.bar(master, x=\"Date\", y=[\"csh_x\", \"csh_i\", \"csh_g\", \"csh_c\", \"csh_m\", \"csh_r\"], title=\"India 1950-2019 GDP Disaggregation\")\n",
    "fig_p.show()"
   ]
  },
  {
   "cell_type": "code",
   "execution_count": null,
   "metadata": {},
   "outputs": [],
   "source": []
  }
 ],
 "metadata": {
  "kernelspec": {
   "display_name": "Python 3",
   "language": "python",
   "name": "python3"
  },
  "language_info": {
   "codemirror_mode": {
    "name": "ipython",
    "version": 3
   },
   "file_extension": ".py",
   "mimetype": "text/x-python",
   "name": "python",
   "nbconvert_exporter": "python",
   "pygments_lexer": "ipython3",
   "version": "3.8.5"
  }
 },
 "nbformat": 4,
 "nbformat_minor": 4
}
